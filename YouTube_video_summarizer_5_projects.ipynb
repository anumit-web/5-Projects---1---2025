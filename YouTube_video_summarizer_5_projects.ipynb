{
  "nbformat": 4,
  "nbformat_minor": 0,
  "metadata": {
    "colab": {
      "provenance": []
    },
    "kernelspec": {
      "name": "python3",
      "display_name": "Python 3"
    },
    "language_info": {
      "name": "python"
    }
  },
  "cells": [
    {
      "cell_type": "markdown",
      "source": [
        "# YouTube Lecture Summarizer"
      ],
      "metadata": {
        "id": "kTH7DNe2hYXN"
      }
    },
    {
      "cell_type": "markdown",
      "source": [
        "# Part 1 - Get transcript text"
      ],
      "metadata": {
        "id": "OjCGzCtitpqa"
      }
    },
    {
      "cell_type": "code",
      "source": [
        "! pip install youtube_transcript_api -q"
      ],
      "metadata": {
        "id": "Z9XQcbgCjB7K"
      },
      "execution_count": null,
      "outputs": []
    },
    {
      "cell_type": "code",
      "source": [
        "\n",
        "#\n",
        "video_url = \"https://www.youtube.com/watch?v=Jhl23PNIWX0\"\n",
        "\n",
        "#\n",
        "print(\"New York Pizza Vs. Italian Pizza\")\n",
        "video_url = \"https://www.youtube.com/watch?v=qYOjBWIOBjM\""
      ],
      "metadata": {
        "id": "OwUsCWeehz3w",
        "colab": {
          "base_uri": "https://localhost:8080/"
        },
        "outputId": "18393d68-a417-4c2a-c0f7-545c5f5777df"
      },
      "execution_count": null,
      "outputs": [
        {
          "output_type": "stream",
          "name": "stdout",
          "text": [
            "New York Pizza Vs. Italian Pizza\n"
          ]
        }
      ]
    },
    {
      "cell_type": "markdown",
      "source": [
        "## Get id of video"
      ],
      "metadata": {
        "id": "LXphEQD6l-aN"
      }
    },
    {
      "cell_type": "code",
      "source": [
        "\n",
        "import sys\n",
        "import re\n",
        "import requests\n",
        "from bs4 import BeautifulSoup\n",
        "from youtube_transcript_api import YouTubeTranscriptApi\n",
        "\n",
        "def extract_video_id(url):\n",
        "    match = re.search(r\"v=([a-zA-Z0-9_-]+)\", url)\n",
        "    if match:\n",
        "        return match.group(1)\n",
        "    else:\n",
        "        raise ValueError(\"Invalid YouTube URL\")"
      ],
      "metadata": {
        "id": "rbhvszDViur5"
      },
      "execution_count": null,
      "outputs": []
    },
    {
      "cell_type": "code",
      "source": [
        "\n",
        "video_id = extract_video_id(video_url)\n",
        "print(\"Video ID:\", video_id)"
      ],
      "metadata": {
        "id": "_zg7ewMXiy2s",
        "colab": {
          "base_uri": "https://localhost:8080/"
        },
        "outputId": "f9121b26-4ecb-45ab-aea8-e67c0bb4656d"
      },
      "execution_count": null,
      "outputs": [
        {
          "output_type": "stream",
          "name": "stdout",
          "text": [
            "Video ID: qYOjBWIOBjM\n"
          ]
        }
      ]
    },
    {
      "cell_type": "markdown",
      "source": [
        "# Extract metadata\n",
        "## 1. Video Title\n",
        "## 2. Channel name"
      ],
      "metadata": {
        "id": "QsRz-vbsmEBC"
      }
    },
    {
      "cell_type": "code",
      "source": [
        "\n",
        "def extract_metadata(url):\n",
        "    r = requests.get(url)\n",
        "    soup = BeautifulSoup(r.text, features=\"html.parser\")\n",
        "    title = soup.find(\"title\").text\n",
        "    channel = soup.find(\"link\", itemprop=\"name\")['content']\n",
        "    return title, channel"
      ],
      "metadata": {
        "id": "cHp1dBeHmc-n"
      },
      "execution_count": null,
      "outputs": []
    },
    {
      "cell_type": "code",
      "source": [
        "\n",
        "#\n",
        "print(\"Title and channel name\")\n",
        "extract_metadata(video_url)"
      ],
      "metadata": {
        "id": "Bbj6fHKWmfxG",
        "colab": {
          "base_uri": "https://localhost:8080/"
        },
        "outputId": "48acec2d-78f9-407a-99cf-88568285f3e3"
      },
      "execution_count": null,
      "outputs": [
        {
          "output_type": "stream",
          "name": "stdout",
          "text": [
            "Title and channel name\n"
          ]
        },
        {
          "output_type": "execute_result",
          "data": {
            "text/plain": [
              "('New York Pizza Vs. Italian Pizza - YouTube', 'Joshua Weissman')"
            ]
          },
          "metadata": {},
          "execution_count": 58
        }
      ]
    },
    {
      "cell_type": "markdown",
      "source": [
        "# Thumbnail image of video"
      ],
      "metadata": {
        "id": "sa16LYYSnWWm"
      }
    },
    {
      "cell_type": "code",
      "source": [
        "\n",
        "def download_thumbnail(video_id):\n",
        "    image_url = f\"https://img.youtube.com/vi/{video_id}/hqdefault.jpg\"\n",
        "    img_data = requests.get(image_url).content\n",
        "    with open('thumbnail.jpg', 'wb') as handler:\n",
        "        handler.write(img_data)"
      ],
      "metadata": {
        "id": "OM4_hz8tndq9"
      },
      "execution_count": null,
      "outputs": []
    },
    {
      "cell_type": "code",
      "source": [
        "\n",
        "#\n",
        "download_thumbnail(video_id)"
      ],
      "metadata": {
        "id": "9iVl1ynYneIe"
      },
      "execution_count": null,
      "outputs": []
    },
    {
      "cell_type": "code",
      "source": [
        "# prompt: display local image\n",
        "\n",
        "from IPython.display import Image, display\n",
        "\n",
        "display(Image('thumbnail.jpg'))\n"
      ],
      "metadata": {
        "colab": {
          "base_uri": "https://localhost:8080/",
          "height": 377
        },
        "id": "U690fPjMn-0d",
        "outputId": "eb75fde9-9f46-4c2e-e8a3-0e411e8ac416"
      },
      "execution_count": null,
      "outputs": [
        {
          "output_type": "display_data",
          "data": {
            "image/jpeg": "[encoded data removed]",
            "text/plain": [
              "<IPython.core.display.Image object>"
            ]
          },
          "metadata": {}
        }
      ]
    },
    {
      "cell_type": "markdown",
      "source": [
        "# Get transcript"
      ],
      "metadata": {
        "id": "Jvqzzlz5qj_m"
      }
    },
    {
      "cell_type": "code",
      "source": [
        "\n",
        "def get_transcript(video_id):\n",
        "    transcript_raw = YouTubeTranscriptApi.get_transcript(video_id, languages=['en', 'es', 'ko'])\n",
        "    transcript_full = ' '.join([i['text'] for i in transcript_raw])\n",
        "    return transcript_full"
      ],
      "metadata": {
        "id": "AVEJbsAEqn3o"
      },
      "execution_count": null,
      "outputs": []
    },
    {
      "cell_type": "code",
      "source": [
        "\n",
        "#\n",
        "def get_transcript(video_id):\n",
        "    try:\n",
        "        # Attempt to get the transcript in the specified languages\n",
        "        transcript_raw = YouTubeTranscriptApi.get_transcript(video_id, languages=['en', 'es', 'ko'])\n",
        "        transcript_full = ' '.join([i['text'] for i in transcript_raw])\n",
        "        return transcript_full\n",
        "    except Exception as e:\n",
        "        # Catch any exception that occurs during transcript retrieval\n",
        "        print(f\"Could not retrieve transcript for video ID {video_id}. Error: {e}\")\n",
        "        return \"\" # Return an empty string or handle the error differently"
      ],
      "metadata": {
        "id": "-gUG8bK0V4O3"
      },
      "execution_count": null,
      "outputs": []
    },
    {
      "cell_type": "code",
      "source": [
        "\n",
        "get_transcript(video_id)"
      ],
      "metadata": {
        "colab": {
          "base_uri": "https://localhost:8080/",
          "height": 198
        },
        "id": "FQ5ndjr2qpRl",
        "outputId": "e01d9314-6161-43bb-b0d3-60bc462e19d0"
      },
      "execution_count": null,
      "outputs": [
        {
          "output_type": "execute_result",
          "data": {
            "text/plain": [
              "\"this feels like dangerous territory an endless battle waged to be ended [Music] so today it is italian versus american aka new york pizza let's go piss people off from got dang two different freaking continents what are you gonna do about that i know there's a lot of different american pizzas and there's a lot of different italian pizzas all right we picked two of my personal favorites new york and neapolitan they're both great pizzas so for the record before we even do this let's have it be a clean fight does that be a respectful fight and let's understand that pizza is delicious in many forms and i know that some people feel that the new york pizza is not a real pizza so let's define it today so with all that being said let's make this shall we so it's time we've got two very different doughs mr italiano which is just flour water salt yeast and the american version containing not only sugar but also being fermented completely different with significantly more yeast in a different type of flour first let's start off with the american pie in a container uh containing 617 grams of water add 14 grams of instant yeast and 25 grams of granulated sugar an italian pizza dough skin whisk that together and set to the side separately get a large bowl filled with 950 grams of all-purpose flour another italian scent now mix in 19 grams of fine sea salt by hand till combined pour your sugar yeasties into your flour mixture mix it by hand until you get a rough dough and then knead on a clean work surface until it starts to easily pull away from said work surface and you have a relatively smooth dough grease a bowl pop it into that greased bowl let that rise for one and a half to two hours at room temp or until two and a half times its original size punch it down divide it into 300 gram pieces lightly form into balls pop that into a pizza proofing box top of the lid and proof for three to four hours at room temp that's your got dang american do now moving on to i know i know settle down italians we love ya anyway get yourself 512 grams of water whisk in three to four grams of instant yeast until dissolved much less than before separately in a large bowl filled with 800 grams of devlo tepo flour not all purpose keep it italiano to that you'll add 16 grams of fine sea salt mix it by hand till combined add your yeasty juice and mix by hand until you get a rough dough need that for five to seven minutes or until you get a beautifully smooth and supple dough now lightly coat the bottom of your bowl with super duper virgin olive oil form your dough into a lightly taut ball plop into your big old bowl cover tightly with plastic wrap and place in the fridge for 24 hours now once that's done punch it down form these into more dainty 250 gram pieces gently roll those into light balls pop into a floured pizza proofing box cover with the lid and proof for three to four hours at room temp now while those are going we'll make our american pizza sauce which ironically is the most involved in a medium sauce pot add 1 tablespoon or 14 grams of unsalted butter one tablespoon or nine grams of extra virgin olive oil let that heat and once the butter is melted and bubbling add in six cloves of rough chopped garlic saute just until fragrant then add two teaspoons or four grams of red pepper flakes i like a little spicy alright now let that cook stirring occasionally until the garlic is golden brown toasted then immediately add in a 28 ounce can of crushed tomatoes in a splash of water then to that you'll add two teaspoons or two grams of dried oregano one and a half tablespoons or 21 grams of italians plug your ears granulated sugar salt and pepper to taste and a light glug of olive oil bring that up to a boil on medium-high immediately reduce the heat to low and simmer for 12 minutes stirring occasionally until reduced and viscous like this beauty right here season that with salt until it's to your liking let that cool and that's your american pie sauce next up the italiano this one's significantly easier and simpler so get yourself a 20 ounce can of whole peeled italian san marzano tomatoes drain the liquid out of those and then gently squeeze each tomato to remove their excess water in a food processor place just those whole tomatoes along with three to four cloves of peeled garlic fresh ground black pepper and salt to taste and two tablespoons or 18 grams of your best olive oil blend that on high until as smooth as possible and that's it now let's finish these bad boys the italian one goes into a true 750 degree pizza oven and the american one into a hot home of it so for the american pie you'll need to preheat a baking steel or pizza stone in the middle of your oven around 500 degrees fahrenheit for at least 30 to 45 minutes before starting once done flour pizza peel generously grab one dough piece plop it down onto your work surface flour your dough generously then start by punching your dough down in the center working your way out to create a border about a quarter of an inch wide then pick the dough up drip it over your closed fists and rotate the dough around gently stretching as you go until you get a 13 to 14 inch pie layer on a couple tablespoons of your sauce starting in the center spreading in little circles working away to the edge until the pie is evenly beautifully coated like this separately we have a cheese mixture of two cups low moisture mozzarella two cups monterey jack and a half a cup of parmigiano-reggiano and i don't care if this is the american or italian version it's fresh grated now that's tossed together beautifully and sprinkled over your pizza to your heart's desire now load that into your oven onto your baking steel close and let it bake for five to seven minutes or until the edges get a nice deep golden brown and the cheese is bubbly melted pull that out and not gonna lie this thing looks pretty good dang good now hold your horses it's italian time shaping and saucing is the exact same here except this time you'll stretch this to no more than a 10 to 12 inch pie spread on your sauce and then add nice little chunks of fresh buffalo mozzarella big chunk here small chunk there have fun with it a couple of torn leaves of fresh basil wait a minute josh you can't cook base on the pizza that'll kill the flavor listen sweetheart if this is done traditionally and cooked quickly enough then yes it will lose a little flavor but it will also lightly perfume the pizza with that basil scent now optionally hit that with a glug of extra virgin olive oil move it into a 750 degree pizza oven cook for 30 seconds turn it halfway and cook for another 20 to 35 seconds take it out and that is a goddamn gorgeous pie now to finish we're gonna add some fresh torn basil leaves to bolster our now newly perfumed pizza now side by side sure they're from two different parts of the world but despite the differences maybe they can both see the beauty in each other but is there a winner let's find out pizza court is in session mamma mia we have two different pizzas they both look extraordinarily different let's begin with the smell this one kind of loses the smell test you've got the garlic the fresh tomato sauce you smell the char the smoke on this is mostly just cheese i'm picking up not a bad thing but i prefer this one it's good it's exactly what you think a new york pizza is going to taste like roughly right caramelized cheese this sauce is a little spicy a little sweet i like it i love it it's gonna be a bite i'm just gonna be straight up this to me is better period end of story sorry new yorkers i already whoa whoa stop i know you're freaking out well he didn't make it properly look been all over new york and had plenty of pizzas been all over italy and had plenty of pieces i'm making both of these pizzas so i'm using all of my professional knowledge to tell you i like this one more personal preference because this has more depth of flavor there's more layers to it i like that it's not so just heavy and late and it's balanced given either of these choices i'm not going to be upset because they're both equally delicious in their own way but we'll bring in some other representatives let the line begin [Music] i love new york i'm a big fan my father is from new york okay so i'm sorry the italian one's the winner they technically are the og so they deserve it but new york we still have love we still have heart for you and you have your place in this world you wanna know what else has a place in this world b-roll [Music] do [Music] you\""
            ],
            "application/vnd.google.colaboratory.intrinsic+json": {
              "type": "string"
            }
          },
          "metadata": {},
          "execution_count": 64
        }
      ]
    },
    {
      "cell_type": "code",
      "source": [
        "\n",
        "#\n",
        "transcript_text = get_transcript(video_id)\n",
        "transcript_text"
      ],
      "metadata": {
        "colab": {
          "base_uri": "https://localhost:8080/",
          "height": 198
        },
        "id": "OO_cp6SHtZhX",
        "outputId": "8fced437-c7ff-48de-eaee-dcd464eefb63"
      },
      "execution_count": null,
      "outputs": [
        {
          "output_type": "execute_result",
          "data": {
            "text/plain": [
              "\"this feels like dangerous territory an endless battle waged to be ended [Music] so today it is italian versus american aka new york pizza let's go piss people off from got dang two different freaking continents what are you gonna do about that i know there's a lot of different american pizzas and there's a lot of different italian pizzas all right we picked two of my personal favorites new york and neapolitan they're both great pizzas so for the record before we even do this let's have it be a clean fight does that be a respectful fight and let's understand that pizza is delicious in many forms and i know that some people feel that the new york pizza is not a real pizza so let's define it today so with all that being said let's make this shall we so it's time we've got two very different doughs mr italiano which is just flour water salt yeast and the american version containing not only sugar but also being fermented completely different with significantly more yeast in a different type of flour first let's start off with the american pie in a container uh containing 617 grams of water add 14 grams of instant yeast and 25 grams of granulated sugar an italian pizza dough skin whisk that together and set to the side separately get a large bowl filled with 950 grams of all-purpose flour another italian scent now mix in 19 grams of fine sea salt by hand till combined pour your sugar yeasties into your flour mixture mix it by hand until you get a rough dough and then knead on a clean work surface until it starts to easily pull away from said work surface and you have a relatively smooth dough grease a bowl pop it into that greased bowl let that rise for one and a half to two hours at room temp or until two and a half times its original size punch it down divide it into 300 gram pieces lightly form into balls pop that into a pizza proofing box top of the lid and proof for three to four hours at room temp that's your got dang american do now moving on to i know i know settle down italians we love ya anyway get yourself 512 grams of water whisk in three to four grams of instant yeast until dissolved much less than before separately in a large bowl filled with 800 grams of devlo tepo flour not all purpose keep it italiano to that you'll add 16 grams of fine sea salt mix it by hand till combined add your yeasty juice and mix by hand until you get a rough dough need that for five to seven minutes or until you get a beautifully smooth and supple dough now lightly coat the bottom of your bowl with super duper virgin olive oil form your dough into a lightly taut ball plop into your big old bowl cover tightly with plastic wrap and place in the fridge for 24 hours now once that's done punch it down form these into more dainty 250 gram pieces gently roll those into light balls pop into a floured pizza proofing box cover with the lid and proof for three to four hours at room temp now while those are going we'll make our american pizza sauce which ironically is the most involved in a medium sauce pot add 1 tablespoon or 14 grams of unsalted butter one tablespoon or nine grams of extra virgin olive oil let that heat and once the butter is melted and bubbling add in six cloves of rough chopped garlic saute just until fragrant then add two teaspoons or four grams of red pepper flakes i like a little spicy alright now let that cook stirring occasionally until the garlic is golden brown toasted then immediately add in a 28 ounce can of crushed tomatoes in a splash of water then to that you'll add two teaspoons or two grams of dried oregano one and a half tablespoons or 21 grams of italians plug your ears granulated sugar salt and pepper to taste and a light glug of olive oil bring that up to a boil on medium-high immediately reduce the heat to low and simmer for 12 minutes stirring occasionally until reduced and viscous like this beauty right here season that with salt until it's to your liking let that cool and that's your american pie sauce next up the italiano this one's significantly easier and simpler so get yourself a 20 ounce can of whole peeled italian san marzano tomatoes drain the liquid out of those and then gently squeeze each tomato to remove their excess water in a food processor place just those whole tomatoes along with three to four cloves of peeled garlic fresh ground black pepper and salt to taste and two tablespoons or 18 grams of your best olive oil blend that on high until as smooth as possible and that's it now let's finish these bad boys the italian one goes into a true 750 degree pizza oven and the american one into a hot home of it so for the american pie you'll need to preheat a baking steel or pizza stone in the middle of your oven around 500 degrees fahrenheit for at least 30 to 45 minutes before starting once done flour pizza peel generously grab one dough piece plop it down onto your work surface flour your dough generously then start by punching your dough down in the center working your way out to create a border about a quarter of an inch wide then pick the dough up drip it over your closed fists and rotate the dough around gently stretching as you go until you get a 13 to 14 inch pie layer on a couple tablespoons of your sauce starting in the center spreading in little circles working away to the edge until the pie is evenly beautifully coated like this separately we have a cheese mixture of two cups low moisture mozzarella two cups monterey jack and a half a cup of parmigiano-reggiano and i don't care if this is the american or italian version it's fresh grated now that's tossed together beautifully and sprinkled over your pizza to your heart's desire now load that into your oven onto your baking steel close and let it bake for five to seven minutes or until the edges get a nice deep golden brown and the cheese is bubbly melted pull that out and not gonna lie this thing looks pretty good dang good now hold your horses it's italian time shaping and saucing is the exact same here except this time you'll stretch this to no more than a 10 to 12 inch pie spread on your sauce and then add nice little chunks of fresh buffalo mozzarella big chunk here small chunk there have fun with it a couple of torn leaves of fresh basil wait a minute josh you can't cook base on the pizza that'll kill the flavor listen sweetheart if this is done traditionally and cooked quickly enough then yes it will lose a little flavor but it will also lightly perfume the pizza with that basil scent now optionally hit that with a glug of extra virgin olive oil move it into a 750 degree pizza oven cook for 30 seconds turn it halfway and cook for another 20 to 35 seconds take it out and that is a goddamn gorgeous pie now to finish we're gonna add some fresh torn basil leaves to bolster our now newly perfumed pizza now side by side sure they're from two different parts of the world but despite the differences maybe they can both see the beauty in each other but is there a winner let's find out pizza court is in session mamma mia we have two different pizzas they both look extraordinarily different let's begin with the smell this one kind of loses the smell test you've got the garlic the fresh tomato sauce you smell the char the smoke on this is mostly just cheese i'm picking up not a bad thing but i prefer this one it's good it's exactly what you think a new york pizza is going to taste like roughly right caramelized cheese this sauce is a little spicy a little sweet i like it i love it it's gonna be a bite i'm just gonna be straight up this to me is better period end of story sorry new yorkers i already whoa whoa stop i know you're freaking out well he didn't make it properly look been all over new york and had plenty of pizzas been all over italy and had plenty of pieces i'm making both of these pizzas so i'm using all of my professional knowledge to tell you i like this one more personal preference because this has more depth of flavor there's more layers to it i like that it's not so just heavy and late and it's balanced given either of these choices i'm not going to be upset because they're both equally delicious in their own way but we'll bring in some other representatives let the line begin [Music] i love new york i'm a big fan my father is from new york okay so i'm sorry the italian one's the winner they technically are the og so they deserve it but new york we still have love we still have heart for you and you have your place in this world you wanna know what else has a place in this world b-roll [Music] do [Music] you\""
            ],
            "application/vnd.google.colaboratory.intrinsic+json": {
              "type": "string"
            }
          },
          "metadata": {},
          "execution_count": 72
        }
      ]
    },
    {
      "cell_type": "markdown",
      "source": [
        "# Part 2 - Summarize the transcript text"
      ],
      "metadata": {
        "id": "lG8EnD1Etxqc"
      }
    },
    {
      "cell_type": "markdown",
      "source": [
        "# Use new Cohere Chat model released in 2025"
      ],
      "metadata": {
        "id": "m--1Yy8fZ_5O"
      }
    },
    {
      "cell_type": "code",
      "source": [
        "\n",
        "# install\n",
        "!pip install langchain-cohere -q"
      ],
      "metadata": {
        "id": "0yf3Cz08U4Uu"
      },
      "execution_count": null,
      "outputs": []
    },
    {
      "cell_type": "code",
      "source": [
        "\n",
        "\n",
        "import os\n",
        "\n",
        "if not os.environ.get(\"COHERE_API_KEY\"):\n",
        "  os.environ[\"COHERE_API_KEY\"] = \"Q6nIsqJ4FX9XcZwlcQLSzA06z0oXYAGBw0jmCdbE\"\n",
        "  os.environ[\"COHERE_API_KEY\"] = \"shzT1LsOcPIyFHYTFogN75LtloP7XKnNXtLXnvba\"\n",
        "\n",
        "cohere_api_key = os.getenv(\"COHERE_API_KEY\")"
      ],
      "metadata": {
        "id": "GlzGetJXRLgi"
      },
      "execution_count": null,
      "outputs": []
    },
    {
      "cell_type": "code",
      "source": [
        "\n",
        "from langchain_cohere import ChatCohere\n",
        "from langchain_core.messages import HumanMessage, AIMessage\n",
        "\n",
        "# Pass the API key as a keyword argument\n",
        "llm = ChatCohere(cohere_api_key=cohere_api_key)"
      ],
      "metadata": {
        "id": "e4L-11fYVT_e"
      },
      "execution_count": null,
      "outputs": []
    },
    {
      "cell_type": "code",
      "source": [
        "\n",
        "import cohere\n",
        "co = cohere.ClientV2(api_key=cohere_api_key)"
      ],
      "metadata": {
        "id": "cqyJCNcLYX0e"
      },
      "execution_count": null,
      "outputs": []
    },
    {
      "cell_type": "code",
      "source": [
        "\n",
        "message = f\"Summarize this text in one sentence\\n{transcript_text}\"\n",
        "\n",
        "response = co.chat(\n",
        "    model=\"command-a-03-2025\",\n",
        "    messages=[{\"role\": \"user\", \"content\": message}],\n",
        ")\n",
        "\n",
        "print(response.message.content[0].text)\n",
        "response.message.content[0].text"
      ],
      "metadata": {
        "colab": {
          "base_uri": "https://localhost:8080/",
          "height": 110
        },
        "id": "MgdbFSsbYDxf",
        "outputId": "3eb535ed-71d6-4175-9a58-f2bd5c461c8d"
      },
      "execution_count": null,
      "outputs": [
        {
          "output_type": "stream",
          "name": "stdout",
          "text": [
            "In a playful and respectful comparison, the creator pits New York-style pizza against Neapolitan pizza, detailing the distinct dough, sauce, and cooking methods for each, ultimately declaring the Neapolitan version the winner due to its deeper flavor profile, while still acknowledging the deliciousness of both styles.\n"
          ]
        },
        {
          "output_type": "execute_result",
          "data": {
            "text/plain": [
              "'In a playful and respectful comparison, the creator pits New York-style pizza against Neapolitan pizza, detailing the distinct dough, sauce, and cooking methods for each, ultimately declaring the Neapolitan version the winner due to its deeper flavor profile, while still acknowledging the deliciousness of both styles.'"
            ],
            "application/vnd.google.colaboratory.intrinsic+json": {
              "type": "string"
            }
          },
          "metadata": {},
          "execution_count": 87
        }
      ]
    },
    {
      "cell_type": "code",
      "source": [
        "\n",
        "message = f\"Generate a concise summary of this text\\n{transcript_text}\"\n",
        "response = co.chat(\n",
        "    model=\"command-a-03-2025\",\n",
        "    messages=[{\"role\": \"user\", \"content\": message}],\n",
        ")\n",
        "print(response.message.content[0].text)\n",
        "response.message.content[0].text\n"
      ],
      "metadata": {
        "colab": {
          "base_uri": "https://localhost:8080/",
          "height": 218
        },
        "id": "vxjJSdCLYo2q",
        "outputId": "5eb9737b-2325-450a-d82b-b56711e240d6"
      },
      "execution_count": null,
      "outputs": [
        {
          "output_type": "stream",
          "name": "stdout",
          "text": [
            "The text is a lively comparison between New York (American) and Neapolitan (Italian) pizzas, highlighting their distinct doughs, sauces, and cooking methods. The American dough includes sugar and more yeast, fermented differently, while the Italian version is simpler, using Tipo 00 flour and less yeast, cold-fermented for 24 hours. The American sauce is more complex, with butter, garlic, and spices, whereas the Italian sauce is minimalist, using San Marzano tomatoes and olive oil. The American pizza is baked in a home oven at 500°F, topped with a mix of cheeses, while the Italian pizza is cooked in a 750°F oven, featuring fresh buffalo mozzarella and basil. The host prefers the Neapolitan pizza for its depth of flavor and balance, though both are praised for their unique qualities. The comparison ends with a lighthearted acknowledgment of both styles' merits, emphasizing personal preference and respect for both traditions.\n"
          ]
        },
        {
          "output_type": "execute_result",
          "data": {
            "text/plain": [
              "\"The text is a lively comparison between New York (American) and Neapolitan (Italian) pizzas, highlighting their distinct doughs, sauces, and cooking methods. The American dough includes sugar and more yeast, fermented differently, while the Italian version is simpler, using Tipo 00 flour and less yeast, cold-fermented for 24 hours. The American sauce is more complex, with butter, garlic, and spices, whereas the Italian sauce is minimalist, using San Marzano tomatoes and olive oil. The American pizza is baked in a home oven at 500°F, topped with a mix of cheeses, while the Italian pizza is cooked in a 750°F oven, featuring fresh buffalo mozzarella and basil. The host prefers the Neapolitan pizza for its depth of flavor and balance, though both are praised for their unique qualities. The comparison ends with a lighthearted acknowledgment of both styles' merits, emphasizing personal preference and respect for both traditions.\""
            ],
            "application/vnd.google.colaboratory.intrinsic+json": {
              "type": "string"
            }
          },
          "metadata": {},
          "execution_count": 86
        }
      ]
    },
    {
      "cell_type": "code",
      "source": [
        "\n",
        "message = f\"Provide summary in 5 bullet points\\n{transcript_text}\"\n",
        "\n",
        "response = co.chat(\n",
        "    model=\"command-a-03-2025\",\n",
        "    messages=[{\"role\": \"user\", \"content\": message}],\n",
        ")\n",
        "\n",
        "print(response.message.content[0].text)\n"
      ],
      "metadata": {
        "colab": {
          "base_uri": "https://localhost:8080/"
        },
        "id": "s2cbfV7wbmGl",
        "outputId": "cb01c17d-c086-4e0f-e6e0-ab8af211f2e1"
      },
      "execution_count": null,
      "outputs": [
        {
          "output_type": "stream",
          "name": "stdout",
          "text": [
            "Here’s a concise summary of the content in 5 bullet points:\n",
            "\n",
            "- **Comparison Focus**: The video compares Italian (Neapolitan) and American (New York) pizzas, highlighting differences in dough, sauce, and cooking methods.  \n",
            "- **Dough Variations**: Italian dough uses simple ingredients (flour, water, salt, yeast) with a 24-hour fridge fermentation, while American dough includes sugar, more yeast, and a shorter room-temp rise.  \n",
            "- **Sauce Differences**: American sauce is cooked with butter, garlic, red pepper flakes, and sugar, while Italian sauce is raw, blending San Marzano tomatoes, garlic, and olive oil.  \n",
            "- **Cooking Techniques**: Italian pizza is baked in a 750°F wood-fired oven for ~1 minute, while American pizza uses a home oven with a baking steel at 500°F for 5–7 minutes.  \n",
            "- **Taste Verdict**: The host prefers the Italian pizza for its depth of flavor and balance, though both are acknowledged as delicious in their own right.\n"
          ]
        }
      ]
    },
    {
      "cell_type": "code",
      "source": [
        "\n",
        "message = f\"Summar\\n{document}\"\n",
        "\n",
        "response = co.chat(\n",
        "    model=\"command-a-03-2025\",\n",
        "    messages=[{\"role\": \"user\", \"content\": message}],\n",
        ")\n",
        "\n",
        "print(response.message.content[0].text)\n"
      ],
      "metadata": {
        "id": "Qlh_Qv30cefT"
      },
      "execution_count": null,
      "outputs": []
    },
    {
      "cell_type": "code",
      "source": [
        "\n",
        "import os\n",
        "from openai import OpenAI\n",
        "\n",
        "def summarize_text_cohere(text, lang='en'):\n",
        "    #OpenAI.api_key = os.getenv(\"OPENAI_API_KEY\")\n",
        "    #client = OpenAI(api_key=OpenAI.api_key)\n",
        "    client = llm\n",
        "\n",
        "    prompt = f\"\"\"\n",
        "    The following text is in its original language. Provide the output in this language: {lang}.\n",
        "    Format the output as follows:\n",
        "\n",
        "    Summary:\n",
        "    short summary of the video\n",
        "\n",
        "    Key Takeaways:\n",
        "    succinct bullet point list of key takeaways\n",
        "\n",
        "    input text: {text}\n",
        "    \"\"\"\n",
        "\n",
        "    response = client.chat.completions.create(\n",
        "        messages=[{\"role\": \"user\", \"content\": prompt}],\n",
        "        model=\"gpt-3.5-turbo\",\n",
        "        #model=\"gpt-4-turbo\", # better performance, slower inference\n",
        "    )\n",
        "\n",
        "    summary_text = response.to_dict()['choices'][0]['message']['content']\n",
        "    return summary_text"
      ],
      "metadata": {
        "id": "faHhZ7CTRMJS"
      },
      "execution_count": null,
      "outputs": []
    },
    {
      "cell_type": "code",
      "source": [
        "\n",
        "# summarize_text_cohere(transcript_text)"
      ],
      "metadata": {
        "id": "mI5QwnpjTzn5",
        "colab": {
          "base_uri": "https://localhost:8080/",
          "height": 313
        },
        "outputId": "a8bf3f07-ecc6-421f-ce4f-8a4ce2d6830d"
      },
      "execution_count": null,
      "outputs": [
        {
          "output_type": "error",
          "ename": "AttributeError",
          "evalue": "'ChatCohere' object has no attribute 'chat'",
          "traceback": [
            "\u001b[0;31m---------------------------------------------------------------------------\u001b[0m",
            "\u001b[0;31mAttributeError\u001b[0m                            Traceback (most recent call last)",
            "\u001b[0;32m<ipython-input-77-7894636edb84>\u001b[0m in \u001b[0;36m<cell line: 0>\u001b[0;34m()\u001b[0m\n\u001b[0;32m----> 1\u001b[0;31m \u001b[0msummarize_text_cohere\u001b[0m\u001b[0;34m(\u001b[0m\u001b[0mtranscript_text\u001b[0m\u001b[0;34m)\u001b[0m\u001b[0;34m\u001b[0m\u001b[0;34m\u001b[0m\u001b[0m\n\u001b[0m",
            "\u001b[0;32m<ipython-input-76-20b2cae1ba8a>\u001b[0m in \u001b[0;36msummarize_text_cohere\u001b[0;34m(text, lang)\u001b[0m\n\u001b[1;32m     20\u001b[0m     \"\"\"\n\u001b[1;32m     21\u001b[0m \u001b[0;34m\u001b[0m\u001b[0m\n\u001b[0;32m---> 22\u001b[0;31m     response = client.chat.completions.create(\n\u001b[0m\u001b[1;32m     23\u001b[0m         \u001b[0mmessages\u001b[0m\u001b[0;34m=\u001b[0m\u001b[0;34m[\u001b[0m\u001b[0;34m{\u001b[0m\u001b[0;34m\"role\"\u001b[0m\u001b[0;34m:\u001b[0m \u001b[0;34m\"user\"\u001b[0m\u001b[0;34m,\u001b[0m \u001b[0;34m\"content\"\u001b[0m\u001b[0;34m:\u001b[0m \u001b[0mprompt\u001b[0m\u001b[0;34m}\u001b[0m\u001b[0;34m]\u001b[0m\u001b[0;34m,\u001b[0m\u001b[0;34m\u001b[0m\u001b[0;34m\u001b[0m\u001b[0m\n\u001b[1;32m     24\u001b[0m         \u001b[0mmodel\u001b[0m\u001b[0;34m=\u001b[0m\u001b[0;34m\"gpt-3.5-turbo\"\u001b[0m\u001b[0;34m,\u001b[0m\u001b[0;34m\u001b[0m\u001b[0;34m\u001b[0m\u001b[0m\n",
            "\u001b[0;32m/usr/local/lib/python3.11/dist-packages/pydantic/main.py\u001b[0m in \u001b[0;36m__getattr__\u001b[0;34m(self, item)\u001b[0m\n\u001b[1;32m    987\u001b[0m                     \u001b[0;32melse\u001b[0m\u001b[0;34m:\u001b[0m\u001b[0;34m\u001b[0m\u001b[0;34m\u001b[0m\u001b[0m\n\u001b[1;32m    988\u001b[0m                         \u001b[0;31m# this is the current error\u001b[0m\u001b[0;34m\u001b[0m\u001b[0;34m\u001b[0m\u001b[0m\n\u001b[0;32m--> 989\u001b[0;31m                         \u001b[0;32mraise\u001b[0m \u001b[0mAttributeError\u001b[0m\u001b[0;34m(\u001b[0m\u001b[0;34mf'{type(self).__name__!r} object has no attribute {item!r}'\u001b[0m\u001b[0;34m)\u001b[0m\u001b[0;34m\u001b[0m\u001b[0;34m\u001b[0m\u001b[0m\n\u001b[0m\u001b[1;32m    990\u001b[0m \u001b[0;34m\u001b[0m\u001b[0m\n\u001b[1;32m    991\u001b[0m         \u001b[0;32mdef\u001b[0m \u001b[0m__setattr__\u001b[0m\u001b[0;34m(\u001b[0m\u001b[0mself\u001b[0m\u001b[0;34m,\u001b[0m \u001b[0mname\u001b[0m\u001b[0;34m:\u001b[0m \u001b[0mstr\u001b[0m\u001b[0;34m,\u001b[0m \u001b[0mvalue\u001b[0m\u001b[0;34m:\u001b[0m \u001b[0mAny\u001b[0m\u001b[0;34m)\u001b[0m \u001b[0;34m->\u001b[0m \u001b[0;32mNone\u001b[0m\u001b[0;34m:\u001b[0m\u001b[0;34m\u001b[0m\u001b[0;34m\u001b[0m\u001b[0m\n",
            "\u001b[0;31mAttributeError\u001b[0m: 'ChatCohere' object has no attribute 'chat'"
          ]
        }
      ]
    },
    {
      "cell_type": "code",
      "source": [
        "\n",
        "import os\n",
        "from openai import OpenAI\n",
        "\n",
        "def summarize_text(text, lang='en'):\n",
        "    OpenAI.api_key = os.getenv(\"OPENAI_API_KEY\")\n",
        "    client = OpenAI(api_key=OpenAI.api_key)\n",
        "\n",
        "    prompt = f\"\"\"\n",
        "    The following text is in its original language. Provide the output in this language: {lang}.\n",
        "    Format the output as follows:\n",
        "\n",
        "    Summary:\n",
        "    short summary of the video\n",
        "\n",
        "    Key Takeaways:\n",
        "    succinct bullet point list of key takeaways\n",
        "\n",
        "    input text: {text}\n",
        "    \"\"\"\n",
        "\n",
        "    response = client.chat.completions.create(\n",
        "        messages=[{\"role\": \"user\", \"content\": prompt}],\n",
        "        model=\"gpt-3.5-turbo\",\n",
        "        #model=\"gpt-4-turbo\", # better performance, slower inference\n",
        "    )\n",
        "\n",
        "    summary_text = response.to_dict()['choices'][0]['message']['content']\n",
        "    return summary_text"
      ],
      "metadata": {
        "id": "8tQs6BLpRPBl"
      },
      "execution_count": null,
      "outputs": []
    }
  ]
}